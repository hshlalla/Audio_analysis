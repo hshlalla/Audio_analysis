{
 "cells": [
  {
   "cell_type": "markdown",
   "id": "c701d384",
   "metadata": {},
   "source": [
    "- 이미 학습된 모델이 있을 때, 추가 데이터를 학습하는 경우 어떻게 진행을 해야할까?\n",
    "\n",
    "1. 모든데이터 재학습 vs. 모델을 불러와 일부데이터만 재학습.\n",
    "\n",
    "이부분은 전이학습과는 별개이다. 전이학습의 경우에는 모델을 불러와서 새로운 데이터에 맞게 아랫부분의 레이어만 수정하는 방식으로 이루어 지는데\n",
    "단순히 모델을 만들었는데 새 데이터가 생겼을 경우에는 어떻게 해야할까? \n",
    "예를 들어서 50만개의 데이터를 100에포크 훈련시킨 비지도 학습 CNN 모델이 있는데 추가적으로 5천개의 데이터를 생성했다면\n",
    "이때 5천개의 데이터만 기존 모델에 100에포크 추가 학습시키는 것은 100애포크동안 5천 개의 데이터만 보게되면서 모델이 일종의 파인 튜닝되어 5천개의 데이터에 편향된 모델이 될 것으로 생각됩니다.\n",
    "그래서 엄밀히는 50만 5천개의 데이터를 처음부터 학습하는 것이 옳다고 생각됩니다.\n",
    "1. 제 질문이 맞을까요?\n",
    "2. Word2Vec, GloVe, FastText의 경우에도 마찬가지입니다.\n",
    "지도 학습을 붙인 전이 학습/파인 튜닝의 목적이 아니라 그냥 방대한 데이터로 학습시킨\n",
    "일반적인 모델을 만들고 싶은 경우라면 추가 데이터가 생기면\n",
    "처음부터 다시 만들어야 한다고 생각합니다. 맞을까요?\n",
    "3. 그런데 처음부터 학습을 하는 것은 어쩌면 비효율적으로도 보입니다.\n",
    "그렇다면 현업에서는 배치 작업을 하는 등의 방법으로\n",
    "추가 데이터가 생길 때마다 모델을 리뉴얼시키나요?\n",
    "이때 사용할 수 잇는 테크닉 같은 것이 있을까요?"
   ]
  },
  {
   "cell_type": "code",
   "execution_count": 1,
   "id": "3dcdfb42",
   "metadata": {},
   "outputs": [
    {
     "ename": "SyntaxError",
     "evalue": "invalid syntax (345895.py, line 1)",
     "output_type": "error",
     "traceback": [
      "\u001B[0;36m  Cell \u001B[0;32mIn [1], line 1\u001B[0;36m\u001B[0m\n\u001B[0;31m    1. Catastrophic Forgetting of Deep Learning\u001B[0m\n\u001B[0m       ^\u001B[0m\n\u001B[0;31mSyntaxError\u001B[0m\u001B[0;31m:\u001B[0m invalid syntax\n"
     ]
    }
   ],
   "source": [
    "1. Catastrophic Forgetting of Deep Learning\n",
    "\n",
    "딥러닝은 데이터를 학습하고 분류하는데 매우 강력한 성능을 보여왔으며, 많은 곳에 활용되어 왔습니다. 하지만, 이 딥러닝의 단점 중 하나는 한 개의 모델이 데이터 학습 후 새로운 데이터셋을 새로 학습할 때, 이전에 학습됬던 데이터셋에 대한 기억을 잊어버린다는 것 입니다.\n",
    "\n",
    "이를 논문들에서는 Catastrophic forgetting이라 지칭합니다. Cross Entropy 기반의 loss를 사용하여 딥뉴럴넷 학습은 은 현재 데이터에 대한 분포를 추정하는 것이므로, 이전 데이터에 대한 분포는 고려하지 못한채 학습을 하는 것으로 보입니다."
   ]
  },
  {
   "cell_type": "code",
   "execution_count": null,
   "outputs": [],
   "source": [],
   "metadata": {
    "collapsed": false
   }
  }
 ],
 "metadata": {
  "kernelspec": {
   "display_name": "Python 3 (ipykernel)",
   "language": "python",
   "name": "python3"
  },
  "language_info": {
   "codemirror_mode": {
    "name": "ipython",
    "version": 3
   },
   "file_extension": ".py",
   "mimetype": "text/x-python",
   "name": "python",
   "nbconvert_exporter": "python",
   "pygments_lexer": "ipython3",
   "version": "3.10.8"
  }
 },
 "nbformat": 4,
 "nbformat_minor": 5
}
